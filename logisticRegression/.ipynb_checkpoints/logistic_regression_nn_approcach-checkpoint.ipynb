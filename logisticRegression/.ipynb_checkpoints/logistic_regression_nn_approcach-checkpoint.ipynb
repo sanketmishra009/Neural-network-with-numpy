{
 "cells": [
  {
   "cell_type": "code",
   "execution_count": 1,
   "metadata": {},
   "outputs": [],
   "source": [
    "import numpy as np\n",
    "import matplotlib.pyplot as plt\n",
    "import h5py\n",
    "import scipy\n",
    "from PIL import Image\n",
    "from scipy import ndimage\n",
    "from lr_utils import load_dataset\n",
    "\n",
    "%matplotlib inline"
   ]
  },
  {
   "cell_type": "code",
   "execution_count": 3,
   "metadata": {},
   "outputs": [],
   "source": [
    "# Loading the data (cat/non-cat)\n",
    "train_set_x_orig, train_set_y, test_set_x_orig, test_set_y, classes = load_dataset()"
   ]
  },
  {
   "cell_type": "code",
   "execution_count": 4,
   "metadata": {},
   "outputs": [
    {
     "name": "stdout",
     "output_type": "stream",
     "text": [
      "y = [1], it's a 'cat' picture.\n"
     ]
    },
    {
     "data": {
      "image/png": "[encoded data removed]",
      "text/plain": [
       "<Figure size 432x288 with 1 Axes>"
      ]
     },
     "metadata": {
      "needs_background": "light"
     },
     "output_type": "display_data"
    }
   ],
   "source": [
    "# Example of a picture\n",
    "index = 25\n",
    "plt.imshow(train_set_x_orig[index])\n",
    "print (\"y = \" + str(train_set_y[:, index]) + \", it's a '\" + classes[np.squeeze(train_set_y[:, index])].decode(\"utf-8\") +  \"' picture.\")"
   ]
  },
  {
   "cell_type": "code",
   "execution_count": 5,
   "metadata": {},
   "outputs": [
    {
     "name": "stdout",
     "output_type": "stream",
     "text": [
      "Number of training examples: m_train = 209\n",
      "Number of testing examples: m_test = 50\n",
      "Height/Width of each image: num_px = 64\n",
      "Each image is of size: (64, 64, 3)\n",
      "train_set_x shape: (209, 64, 64, 3)\n",
      "train_set_y shape: (1, 209)\n",
      "test_set_x shape: (50, 64, 64, 3)\n",
      "test_set_y shape: (1, 50)\n"
     ]
    }
   ],
   "source": [
    "m_train = train_set_x_orig.shape[0]\n",
    "m_test = test_set_x_orig.shape[0]\n",
    "num_px = train_set_x_orig.shape[1]\n",
    "\n",
    "print (\"Number of training examples: m_train = \" + str(m_train))\n",
    "print (\"Number of testing examples: m_test = \" + str(m_test))\n",
    "print (\"Height/Width of each image: num_px = \" + str(num_px))\n",
    "print (\"Each image is of size: (\" + str(num_px) + \", \" + str(num_px) + \", 3)\")\n",
    "print (\"train_set_x shape: \" + str(train_set_x_orig.shape))\n",
    "print (\"train_set_y shape: \" + str(train_set_y.shape))\n",
    "print (\"test_set_x shape: \" + str(test_set_x_orig.shape))\n",
    "print (\"test_set_y shape: \" + str(test_set_y.shape))"
   ]
  },
  {
   "cell_type": "code",
   "execution_count": 8,
   "metadata": {},
   "outputs": [
    {
     "name": "stdout",
     "output_type": "stream",
     "text": [
      "train_set_x_flatten shape: (12288, 209)\n",
      "train_set_y shape: (1, 209)\n",
      "test_set_x_flatten shape: (12288, 50)\n",
      "test_set_y shape: (1, 50)\n",
      "sanity check after reshaping: [17 31 56 22 33]\n"
     ]
    }
   ],
   "source": [
    "train_set_x_flatten = train_set_x_orig.reshape(train_set_x_orig.shape[0],-1).T\n",
    "test_set_x_flatten = test_set_x_orig.reshape(test_set_x_orig.shape[0],-1).T\n",
    "print (\"train_set_x_flatten shape: \" + str(train_set_x_flatten.shape))\n",
    "print (\"train_set_y shape: \" + str(train_set_y.shape))\n",
    "print (\"test_set_x_flatten shape: \" + str(test_set_x_flatten.shape))\n",
    "print (\"test_set_y shape: \" + str(test_set_y.shape))\n",
    "print (\"sanity check after reshaping: \" + str(train_set_x_flatten[0:5,0]))"
   ]
  },
  {
   "cell_type": "code",
   "execution_count": 9,
   "metadata": {},
   "outputs": [],
   "source": [
    "#normalize\n",
    "train_set_x = train_set_x_flatten/255\n",
    "test_set_x = test_set_x_flatten/255"
   ]
  },
  {
   "cell_type": "markdown",
   "metadata": {},
   "source": [
    "## 4 - Building the parts of our algorithm ## \n",
    "\n",
    "The main steps for building a Neural Network are:\n",
    "1. Define the model structure (such as number of input features) \n",
    "2. Initialize the model's parameters\n",
    "3. Loop:\n",
    "    - Calculate current loss (forward propagation)\n",
    "    - Calculate current gradient (backward propagation)\n",
    "    - Update parameters (gradient descent)\n",
    "\n",
    "You often build 1-3 separately and integrate them into one function we call `model()`.\n",
    "\n",
    "### 4.1 - Helper functions\n",
    "\n",
    "**Exercise**: Using your code from \"Python Basics\", implement `sigmoid()`. As you've seen in the figure above, you need to compute $sigmoid( w^T x + b) = \\frac{1}{1 + e^{-(w^T x + b)}}$ to make predictions. Use np.exp()."
   ]
  },
  {
   "cell_type": "code",
   "execution_count": 13,
   "metadata": {},
   "outputs": [],
   "source": [
    "def sigmoid(z):\n",
    "    s = 1/(1+np.exp(-z))\n",
    "    return s"
   ]
  },
  {
   "cell_type": "code",
   "execution_count": 14,
   "metadata": {},
   "outputs": [
    {
     "name": "stdout",
     "output_type": "stream",
     "text": [
      "sigmoid([0, 2]) = [0.5        0.88079708]\n"
     ]
    }
   ],
   "source": [
    "print (\"sigmoid([0, 2]) = \" + str(sigmoid(np.array([0,2]))))"
   ]
  },
  {
   "cell_type": "code",
   "execution_count": 109,
   "metadata": {},
   "outputs": [],
   "source": [
    "def initialize_with_zeros(dim):\n",
    "    w = np.zeros((1,dim))\n",
    "    b= 0\n",
    "#    print(\"W's shape:\",w.shape)\n",
    "    return w,b"
   ]
  },
  {
   "cell_type": "code",
   "execution_count": 110,
   "metadata": {},
   "outputs": [
    {
     "name": "stdout",
     "output_type": "stream",
     "text": [
      "w = [[0. 0.]]\n",
      "b = 0\n"
     ]
    }
   ],
   "source": [
    "dim = 2\n",
    "w, b = initialize_with_zeros(dim)\n",
    "print (\"w = \" + str(w))\n",
    "print (\"b = \" + str(b))"
   ]
  },
  {
   "cell_type": "code",
   "execution_count": 93,
   "metadata": {},
   "outputs": [],
   "source": [
    "def propagate(w,b,x,y):\n",
    "    m = x.shape[1]\n",
    "    #forward propagation\n",
    "    z = np.dot(w,x)+b\n",
    "    a = sigmoid(z)\n",
    "    #loss\n",
    "    loss = y*np.log(a)+(1-y)*np.log(1-a)\n",
    "    #cost\n",
    "    cost = (-1/m)*(loss.sum(axis=1))\n",
    "    \n",
    "    #back propagation\n",
    "    dz = a-y\n",
    "    dw = np.dot(dz,x.T)/m\n",
    "    db = np.sum(dz)/m\n",
    "    \n",
    "    grads={\"dw\":dw,\n",
    "          \"db\":db}\n",
    "    return grads, cost"
   ]
  },
  {
   "cell_type": "code",
   "execution_count": 94,
   "metadata": {},
   "outputs": [
    {
     "name": "stdout",
     "output_type": "stream",
     "text": [
      "dw = [[0.99845601 2.39507239]]\n",
      "db = 0.001455578136784208\n",
      "cost = [5.80154532]\n"
     ]
    }
   ],
   "source": [
    "w, b, X, Y = np.array([[1.],[2.]]), 2., np.array([[1.,2.,-1.],[3.,4.,-3.2]]), np.array([[1,0,1]])\n",
    "grads, cost = propagate(w.T, b, X, Y)\n",
    "print (\"dw = \" + str(grads[\"dw\"]))\n",
    "print (\"db = \" + str(grads[\"db\"]))\n",
    "print (\"cost = \" + str(cost))"
   ]
  },
  {
   "cell_type": "code",
   "execution_count": 106,
   "metadata": {},
   "outputs": [],
   "source": [
    " def optimize(w,b,x,y,learning_rate, num_iterations):\n",
    "        costs=[]\n",
    "        for i in range(num_iterations):\n",
    "            grads, cost = propagate(w,b,x,y)\n",
    "            dw = grads[\"dw\"]\n",
    "            db = grads[\"db\"]\n",
    "            #update parameter\n",
    "            w -= learning_rate*dw\n",
    "            b -= learning_rate*db\n",
    "            if i % 10 == 0:\n",
    "                costs.append(cost)\n",
    "#                print(\"cost at\",i,\":\",cost)\n",
    "            params = {\"w\": w,\n",
    "              \"b\": b}\n",
    "    \n",
    "            grads = {\"dw\": dw,\n",
    "                     \"db\": db}\n",
    "        return params,grads,costs"
   ]
  },
  {
   "cell_type": "code",
   "execution_count": 107,
   "metadata": {},
   "outputs": [
    {
     "name": "stdout",
     "output_type": "stream",
     "text": [
      "w = [[-0.41315412 -0.49504171]]\n",
      "b = 2.0505215915329154\n",
      "dw = [[ 0.06471177 -0.01774377]]\n",
      "db = -0.05324693276922724\n"
     ]
    }
   ],
   "source": [
    "params, grads, costs = optimize(w.T, b, X, Y, num_iterations= 100, learning_rate = 0.009)\n",
    "\n",
    "print (\"w = \" + str(params[\"w\"]))\n",
    "print (\"b = \" + str(params[\"b\"]))\n",
    "print (\"dw = \" + str(grads[\"dw\"]))\n",
    "print (\"db = \" + str(grads[\"db\"]))"
   ]
  },
  {
   "cell_type": "code",
   "execution_count": 82,
   "metadata": {},
   "outputs": [],
   "source": [
    "def predict(w,b,x):\n",
    "    m = x.shape[1]\n",
    "    y_pred = np.zeros((1,m))\n",
    "    w = w.reshape(1,x.shape[0])\n",
    "    a = sigmoid(np.dot(w,x)+b)\n",
    "    for i in range(m):\n",
    "        if a[0][i] <= 0.5:\n",
    "            y_pred[0][i]=0\n",
    "        else:\n",
    "            y_pred[0][i]=1\n",
    "    return y_pred"
   ]
  },
  {
   "cell_type": "code",
   "execution_count": 83,
   "metadata": {},
   "outputs": [
    {
     "name": "stdout",
     "output_type": "stream",
     "text": [
      "predictions = [[1. 1. 0.]]\n"
     ]
    }
   ],
   "source": [
    "w = np.array([[0.1124579],[0.23106775]])\n",
    "b = -0.3\n",
    "X = np.array([[1.,-1.1,-3.2],[1.2,2.,0.1]])\n",
    "print (\"predictions = \" + str(predict(w, b, X)))"
   ]
  },
  {
   "cell_type": "code",
   "execution_count": 88,
   "metadata": {},
   "outputs": [],
   "source": [
    "def model(x_train,y_train,x_test,y_test,num_iterations,learning_rate):\n",
    "    w,b = initialize_with_zeros(x_train.shape[0])\n",
    "    parameters, grads, costs =optimize(w,b,x_train,y_train,learning_rate, num_iterations)\n",
    "    w = parameters[\"w\"]\n",
    "    b = parameters[\"b\"]\n",
    "    y_prediction_test = predict(w,b,x_test)\n",
    "    y_prediction_train = predict(w,b,x_train)\n",
    "    print(\"train accuracy: {} %\".format(100 - np.mean(np.abs(y_prediction_train - y_train)) * 100))\n",
    "    print(\"test accuracy: {} %\".format(100 - np.mean(np.abs(y_prediction_test - y_test)) * 100))\n",
    "\n",
    "    \n",
    "    d = {\"costs\": costs,\n",
    "         \"Y_prediction_test\": y_prediction_test, \n",
    "         \"Y_prediction_train\" : y_prediction_train, \n",
    "         \"w\" : w, \n",
    "         \"b\" : b,\n",
    "         \"learning_rate\" : learning_rate,\n",
    "         \"num_iterations\": num_iterations\n",
    "        }\n",
    "    \n",
    "    return d"
   ]
  },
  {
   "cell_type": "code",
   "execution_count": 89,
   "metadata": {},
   "outputs": [
    {
     "name": "stdout",
     "output_type": "stream",
     "text": [
      "W's shape: (1, 12288)\n",
      "cost at %d: 0 [0.69314718]\n",
      "cost at %d: 10 [0.74494036]\n",
      "cost at %d: 20 [0.71924893]\n",
      "cost at %d: 30 [0.69733578]\n",
      "cost at %d: 40 [0.67781423]\n",
      "cost at %d: 50 [0.65992505]\n",
      "cost at %d: 60 [0.64324758]\n",
      "cost at %d: 70 [0.62752067]\n",
      "cost at %d: 80 [0.61256763]\n",
      "cost at %d: 90 [0.59826171]\n",
      "cost at %d: 100 [0.58450836]\n",
      "cost at %d: 110 [0.5712352]\n",
      "cost at %d: 120 [0.55838576]\n",
      "cost at %d: 130 [0.54591536]\n",
      "cost at %d: 140 [0.53378826]\n",
      "cost at %d: 150 [0.52197559]\n",
      "cost at %d: 160 [0.51045393]\n",
      "cost at %d: 170 [0.49920423]\n",
      "cost at %d: 180 [0.48821112]\n",
      "cost at %d: 190 [0.47746243]\n",
      "cost at %d: 200 [0.46694904]\n",
      "cost at %d: 210 [0.45666487]\n",
      "cost at %d: 220 [0.4466072]\n",
      "cost at %d: 230 [0.43677724]\n",
      "cost at %d: 240 [0.42718119]\n",
      "cost at %d: 250 [0.4178317]\n",
      "cost at %d: 260 [0.40875011]\n",
      "cost at %d: 270 [0.39996939]\n",
      "cost at %d: 280 [0.39153768]\n",
      "cost at %d: 290 [0.38352161]\n",
      "cost at %d: 300 [0.37600687]\n",
      "cost at %d: 310 [0.36909172]\n",
      "cost at %d: 320 [0.36286718]\n",
      "cost at %d: 330 [0.35738242]\n",
      "cost at %d: 340 [0.35260819]\n",
      "cost at %d: 350 [0.34842714]\n",
      "cost at %d: 360 [0.34467067]\n",
      "cost at %d: 370 [0.34118016]\n",
      "cost at %d: 380 [0.33784747]\n",
      "cost at %d: 390 [0.33461639]\n",
      "cost at %d: 400 [0.33146329]\n",
      "cost at %d: 410 [0.32837915]\n",
      "cost at %d: 420 [0.3253599]\n",
      "cost at %d: 430 [0.3224029]\n",
      "cost at %d: 440 [0.31950588]\n",
      "cost at %d: 450 [0.31666673]\n",
      "cost at %d: 460 [0.31388347]\n",
      "cost at %d: 470 [0.31115422]\n",
      "cost at %d: 480 [0.30847719]\n",
      "cost at %d: 490 [0.30585067]\n",
      "cost at %d: 500 [0.30327307]\n",
      "cost at %d: 510 [0.30074282]\n",
      "cost at %d: 520 [0.29825847]\n",
      "cost at %d: 530 [0.2958186]\n",
      "cost at %d: 540 [0.29342189]\n",
      "cost at %d: 550 [0.29106703]\n",
      "cost at %d: 560 [0.28875282]\n",
      "cost at %d: 570 [0.28647807]\n",
      "cost at %d: 580 [0.28424166]\n",
      "cost at %d: 590 [0.28204251]\n",
      "cost at %d: 600 [0.27987959]\n",
      "cost at %d: 610 [0.27775189]\n",
      "cost at %d: 620 [0.27565848]\n",
      "cost at %d: 630 [0.27359842]\n",
      "cost at %d: 640 [0.27157085]\n",
      "cost at %d: 650 [0.26957491]\n",
      "cost at %d: 660 [0.26760978]\n",
      "cost at %d: 670 [0.26567468]\n",
      "cost at %d: 680 [0.26376886]\n",
      "cost at %d: 690 [0.26189158]\n",
      "cost at %d: 700 [0.26004214]\n",
      "cost at %d: 710 [0.25821986]\n",
      "cost at %d: 720 [0.25642409]\n",
      "cost at %d: 730 [0.2546542]\n",
      "cost at %d: 740 [0.25290957]\n",
      "cost at %d: 750 [0.25118962]\n",
      "cost at %d: 760 [0.24949377]\n",
      "cost at %d: 770 [0.24782148]\n",
      "cost at %d: 780 [0.24617221]\n",
      "cost at %d: 790 [0.24454544]\n",
      "cost at %d: 800 [0.24294068]\n",
      "cost at %d: 810 [0.24135745]\n",
      "cost at %d: 820 [0.23979527]\n",
      "cost at %d: 830 [0.2382537]\n",
      "cost at %d: 840 [0.23673228]\n",
      "cost at %d: 850 [0.23523061]\n",
      "cost at %d: 860 [0.23374825]\n",
      "cost at %d: 870 [0.23228482]\n",
      "cost at %d: 880 [0.23083992]\n",
      "cost at %d: 890 [0.22941318]\n",
      "cost at %d: 900 [0.22800422]\n",
      "cost at %d: 910 [0.2266127]\n",
      "cost at %d: 920 [0.22523827]\n",
      "cost at %d: 930 [0.22388059]\n",
      "cost at %d: 940 [0.22253933]\n",
      "cost at %d: 950 [0.22121418]\n",
      "cost at %d: 960 [0.21990482]\n",
      "cost at %d: 970 [0.21861097]\n",
      "cost at %d: 980 [0.21733232]\n",
      "cost at %d: 990 [0.2160686]\n",
      "cost at %d: 1000 [0.21481951]\n",
      "cost at %d: 1010 [0.21358481]\n",
      "cost at %d: 1020 [0.21236421]\n",
      "cost at %d: 1030 [0.21115748]\n",
      "cost at %d: 1040 [0.20996435]\n",
      "cost at %d: 1050 [0.20878459]\n",
      "cost at %d: 1060 [0.20761795]\n",
      "cost at %d: 1070 [0.20646422]\n",
      "cost at %d: 1080 [0.20532316]\n",
      "cost at %d: 1090 [0.20419456]\n",
      "cost at %d: 1100 [0.20307819]\n",
      "cost at %d: 1110 [0.20197386]\n",
      "cost at %d: 1120 [0.20088136]\n",
      "cost at %d: 1130 [0.19980048]\n",
      "cost at %d: 1140 [0.19873104]\n",
      "cost at %d: 1150 [0.19767285]\n",
      "cost at %d: 1160 [0.19662573]\n",
      "cost at %d: 1170 [0.19558948]\n",
      "cost at %d: 1180 [0.19456393]\n",
      "cost at %d: 1190 [0.19354892]\n",
      "cost at %d: 1200 [0.19254428]\n",
      "cost at %d: 1210 [0.19154983]\n",
      "cost at %d: 1220 [0.19056542]\n",
      "cost at %d: 1230 [0.18959089]\n",
      "cost at %d: 1240 [0.18862609]\n",
      "cost at %d: 1250 [0.18767086]\n",
      "cost at %d: 1260 [0.18672507]\n",
      "cost at %d: 1270 [0.18578856]\n",
      "cost at %d: 1280 [0.18486119]\n",
      "cost at %d: 1290 [0.18394283]\n",
      "cost at %d: 1300 [0.18303334]\n",
      "cost at %d: 1310 [0.18213259]\n",
      "cost at %d: 1320 [0.18124045]\n",
      "cost at %d: 1330 [0.18035679]\n",
      "cost at %d: 1340 [0.17948149]\n",
      "cost at %d: 1350 [0.17861443]\n",
      "cost at %d: 1360 [0.17775548]\n",
      "cost at %d: 1370 [0.17690454]\n",
      "cost at %d: 1380 [0.17606149]\n",
      "cost at %d: 1390 [0.17522621]\n",
      "cost at %d: 1400 [0.17439859]\n",
      "cost at %d: 1410 [0.17357854]\n",
      "cost at %d: 1420 [0.17276594]\n",
      "cost at %d: 1430 [0.17196068]\n",
      "cost at %d: 1440 [0.17116268]\n",
      "cost at %d: 1450 [0.17037182]\n",
      "cost at %d: 1460 [0.16958801]\n",
      "cost at %d: 1470 [0.16881116]\n",
      "cost at %d: 1480 [0.16804116]\n",
      "cost at %d: 1490 [0.16727794]\n",
      "cost at %d: 1500 [0.1665214]\n",
      "cost at %d: 1510 [0.16577144]\n",
      "cost at %d: 1520 [0.16502799]\n",
      "cost at %d: 1530 [0.16429095]\n",
      "cost at %d: 1540 [0.16356025]\n",
      "cost at %d: 1550 [0.1628358]\n",
      "cost at %d: 1560 [0.16211752]\n",
      "cost at %d: 1570 [0.16140533]\n",
      "cost at %d: 1580 [0.16069915]\n",
      "cost at %d: 1590 [0.1599989]\n",
      "cost at %d: 1600 [0.15930452]\n",
      "cost at %d: 1610 [0.15861592]\n",
      "cost at %d: 1620 [0.15793304]\n",
      "cost at %d: 1630 [0.15725579]\n",
      "cost at %d: 1640 [0.15658412]\n",
      "cost at %d: 1650 [0.15591796]\n",
      "cost at %d: 1660 [0.15525722]\n",
      "cost at %d: 1670 [0.15460186]\n",
      "cost at %d: 1680 [0.1539518]\n",
      "cost at %d: 1690 [0.15330697]\n",
      "cost at %d: 1700 [0.15266732]\n",
      "cost at %d: 1710 [0.15203279]\n",
      "cost at %d: 1720 [0.1514033]\n",
      "cost at %d: 1730 [0.15077881]\n",
      "cost at %d: 1740 [0.15015925]\n",
      "cost at %d: 1750 [0.14954456]\n",
      "cost at %d: 1760 [0.14893468]\n",
      "cost at %d: 1770 [0.14832957]\n",
      "cost at %d: 1780 [0.14772916]\n",
      "cost at %d: 1790 [0.1471334]\n",
      "cost at %d: 1800 [0.14654224]\n",
      "cost at %d: 1810 [0.14595561]\n",
      "cost at %d: 1820 [0.14537348]\n",
      "cost at %d: 1830 [0.14479579]\n",
      "cost at %d: 1840 [0.14422248]\n",
      "cost at %d: 1850 [0.14365351]\n",
      "cost at %d: 1860 [0.14308884]\n",
      "cost at %d: 1870 [0.1425284]\n",
      "cost at %d: 1880 [0.14197216]\n",
      "cost at %d: 1890 [0.14142007]\n",
      "cost at %d: 1900 [0.14087208]\n",
      "cost at %d: 1910 [0.14032814]\n",
      "cost at %d: 1920 [0.13978821]\n",
      "cost at %d: 1930 [0.13925226]\n",
      "cost at %d: 1940 [0.13872022]\n",
      "cost at %d: 1950 [0.13819207]\n",
      "cost at %d: 1960 [0.13766776]\n",
      "cost at %d: 1970 [0.13714724]\n",
      "cost at %d: 1980 [0.13663048]\n",
      "cost at %d: 1990 [0.13611744]\n",
      "train accuracy: 99.04306220095694 %\n",
      "test accuracy: 70.0 %\n"
     ]
    }
   ],
   "source": [
    "d = model(train_set_x, train_set_y, test_set_x, test_set_y, num_iterations = 2000, learning_rate = 0.005)"
   ]
  },
  {
   "cell_type": "code",
   "execution_count": 103,
   "metadata": {},
   "outputs": [
    {
     "data": {
      "image/png": "[encoded data removed]",
      "text/plain": [
       "<Figure size 432x288 with 1 Axes>"
      ]
     },
     "metadata": {
      "needs_background": "light"
     },
     "output_type": "display_data"
    }
   ],
   "source": [
    "costs = np.squeeze(d['costs'])\n",
    "plt.plot(costs)\n",
    "plt.ylabel('cost')\n",
    "plt.xlabel('iterations (per hundreds)')\n",
    "plt.title(\"Learning rate =\" + str(d[\"learning_rate\"]))\n",
    "plt.show()"
   ]
  },
  {
   "cell_type": "code",
   "execution_count": 111,
   "metadata": {},
   "outputs": [
    {
     "name": "stdout",
     "output_type": "stream",
     "text": [
      "learning rate is: 0.01\n",
      "train accuracy: 99.52153110047847 %\n",
      "test accuracy: 68.0 %\n",
      "\n",
      "-------------------------------------------------------\n",
      "\n",
      "learning rate is: 0.001\n",
      "train accuracy: 88.99521531100478 %\n",
      "test accuracy: 64.0 %\n",
      "\n",
      "-------------------------------------------------------\n",
      "\n",
      "learning rate is: 0.0001\n",
      "train accuracy: 68.42105263157895 %\n",
      "test accuracy: 36.0 %\n",
      "\n",
      "-------------------------------------------------------\n",
      "\n"
     ]
    },
    {
     "data": {
      "image/png": "[encoded data removed]",
      "text/plain": [
       "<Figure size 432x288 with 1 Axes>"
      ]
     },
     "metadata": {
      "needs_background": "light"
     },
     "output_type": "display_data"
    }
   ],
   "source": [
    "learning_rates = [0.01, 0.001, 0.0001]\n",
    "models = {}\n",
    "for i in learning_rates:\n",
    "    print (\"learning rate is: \" + str(i))\n",
    "    models[str(i)] = model(train_set_x, train_set_y, test_set_x, test_set_y, num_iterations = 1500, learning_rate = i)\n",
    "    print ('\\n' + \"-------------------------------------------------------\" + '\\n')\n",
    "\n",
    "for i in learning_rates:\n",
    "    plt.plot(np.squeeze(models[str(i)][\"costs\"]), label= str(models[str(i)][\"learning_rate\"]))\n",
    "\n",
    "plt.ylabel('cost')\n",
    "plt.xlabel('iterations (hundreds)')\n",
    "\n",
    "legend = plt.legend(loc='upper center', shadow=True)\n",
    "frame = legend.get_frame()\n",
    "frame.set_facecolor('0.90')\n",
    "plt.show()"
   ]
  },
  {
   "cell_type": "code",
   "execution_count": null,
   "metadata": {},
   "outputs": [],
   "source": []
  }
 ],
 "metadata": {
  "kernelspec": {
   "display_name": "Python 3",
   "language": "python",
   "name": "python3"
  },
  "language_info": {
   "codemirror_mode": {
    "name": "ipython",
    "version": 3
   },
   "file_extension": ".py",
   "mimetype": "text/x-python",
   "name": "python",
   "nbconvert_exporter": "python",
   "pygments_lexer": "ipython3",
   "version": "3.7.3"
  }
 },
 "nbformat": 4,
 "nbformat_minor": 4
}
