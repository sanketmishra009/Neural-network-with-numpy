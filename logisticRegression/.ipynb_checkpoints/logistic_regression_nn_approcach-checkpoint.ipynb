{
 "cells": [
  {
   "cell_type": "code",
   "execution_count": 12,
   "metadata": {},
   "outputs": [],
   "source": [
    "import numpy as np\n",
    "import matplotlib.pyplot as plt\n",
    "import h5py\n",
    "import scipy\n",
    "from PIL import Image\n",
    "from scipy import ndimage\n",
    "from lr_utils import load_dataset\n",
    "\n",
    "%matplotlib inline"
   ]
  },
  {
   "cell_type": "code",
   "execution_count": 17,
   "metadata": {},
   "outputs": [
    {
     "name": "stdout",
     "output_type": "stream",
     "text": [
      "(500, 380, 3)\n",
      "(300, 399, 3)\n",
      "(120, 159, 3)\n",
      "(480, 467, 3)\n",
      "(375, 499, 3)\n",
      "(374, 500, 3)\n",
      "(392, 393, 3)\n",
      "(402, 499, 3)\n",
      "(386, 500, 3)\n",
      "(374, 500, 3)\n"
     ]
    }
   ],
   "source": [
    "path=\"/Users/sanketmishra/desktop/practice/ai/practice/train/\"\n",
    "def loadImage(path):\n",
    "    image_list = os.listdir(path)\n",
    "    loaded_images=[]\n",
    "    count =0\n",
    "    for image in image_list:\n",
    "        img = Image.open(path+image)\n",
    "        loaded_images.append(img)\n",
    "        count+=1\n",
    "        if count >10:\n",
    "            break\n",
    "    return loaded_images\n",
    "images = loadImage(path)\n",
    "for i in range(10):\n",
    "    x=np.asarray(images[i])\n",
    "    print(x.shape)\n",
    "    \n"
   ]
  },
  {
   "cell_type": "code",
   "execution_count": null,
   "metadata": {},
   "outputs": [],
   "source": []
  }
 ],
 "metadata": {
  "kernelspec": {
   "display_name": "Python 3",
   "language": "python",
   "name": "python3"
  },
  "language_info": {
   "codemirror_mode": {
    "name": "ipython",
    "version": 3
   },
   "file_extension": ".py",
   "mimetype": "text/x-python",
   "name": "python",
   "nbconvert_exporter": "python",
   "pygments_lexer": "ipython3",
   "version": "3.7.3"
  }
 },
 "nbformat": 4,
 "nbformat_minor": 4
}
